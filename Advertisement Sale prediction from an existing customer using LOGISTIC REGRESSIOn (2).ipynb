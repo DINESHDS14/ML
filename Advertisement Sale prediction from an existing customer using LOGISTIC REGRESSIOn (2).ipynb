{
  "nbformat": 4,
  "nbformat_minor": 0,
  "metadata": {
    "colab": {
      "provenance": [],
      "collapsed_sections": []
    },
    "kernelspec": {
      "name": "python3",
      "display_name": "Python 3"
    },
    "language_info": {
      "name": "python"
    }
  },
  "cells": [
    {
      "cell_type": "markdown",
      "source": [
        "importing libraries"
      ],
      "metadata": {
        "id": "rDlS71-Qtvlc"
      }
    },
    {
      "cell_type": "code",
      "execution_count": 2,
      "metadata": {
        "id": "WfcSK-72gP5C"
      },
      "outputs": [],
      "source": [
        "import pandas as pd\n",
        "import numpy as np #array functions"
      ]
    },
    {
      "cell_type": "markdown",
      "source": [
        "reading the dataset from the csv file using pandas"
      ],
      "metadata": {
        "id": "_l8eN6QBt16K"
      }
    },
    {
      "cell_type": "code",
      "source": [
        "ds = pd.read_csv('/content/DigitalAd_dataset.csv')\n",
        "ds"
      ],
      "metadata": {
        "id": "972NOcb9g_-i"
      },
      "execution_count": null,
      "outputs": []
    },
    {
      "cell_type": "markdown",
      "source": [
        "shape is to check the total no of rows and columns "
      ],
      "metadata": {
        "id": "2ehqmYPlt_d0"
      }
    },
    {
      "cell_type": "code",
      "source": [
        "print(ds.shape)"
      ],
      "metadata": {
        "colab": {
          "base_uri": "https://localhost:8080/"
        },
        "id": "rfWnrwweiM1N",
        "outputId": "269922ba-3ccc-4d19-f5e5-51d982d1e2c2"
      },
      "execution_count": 5,
      "outputs": [
        {
          "output_type": "stream",
          "name": "stdout",
          "text": [
            "(400, 3)\n"
          ]
        }
      ]
    },
    {
      "cell_type": "markdown",
      "source": [
        "head prints the first dtermined value from the dataset"
      ],
      "metadata": {
        "id": "SzxoqxrFuEql"
      }
    },
    {
      "cell_type": "code",
      "source": [
        "print(ds.head(5))"
      ],
      "metadata": {
        "id": "SfwbjqNhiQXQ"
      },
      "execution_count": null,
      "outputs": []
    },
    {
      "cell_type": "markdown",
      "source": [
        "tail prints the last determined value from the dataset "
      ],
      "metadata": {
        "id": "uXwClZrquLaC"
      }
    },
    {
      "cell_type": "code",
      "source": [
        "print(ds.tail(5))"
      ],
      "metadata": {
        "id": "RlTa81XGiOFP"
      },
      "execution_count": null,
      "outputs": []
    },
    {
      "cell_type": "markdown",
      "source": [
        "separating the input and output using iloc functions input as x and ouput as y "
      ],
      "metadata": {
        "id": "TNGMGnqcuQ7w"
      }
    },
    {
      "cell_type": "code",
      "source": [
        "x = ds.iloc[:,:-1].values\n",
        "x"
      ],
      "metadata": {
        "id": "gDbhZkXmiV5G"
      },
      "execution_count": null,
      "outputs": []
    },
    {
      "cell_type": "code",
      "source": [
        "y=ds.iloc[:,-1].values\n",
        "y"
      ],
      "metadata": {
        "id": "H4d_wfc6icql"
      },
      "execution_count": null,
      "outputs": []
    },
    {
      "cell_type": "markdown",
      "source": [
        "using sklearn we split the dataset input and outpt values to train and test "
      ],
      "metadata": {
        "id": "mxN1u-d5ukIW"
      }
    },
    {
      "cell_type": "code",
      "source": [
        "from sklearn.model_selection import train_test_split\n",
        "x_train,x_test,y_train,y_test = train_test_split(x,y,test_size=0.5,random_state=0)"
      ],
      "metadata": {
        "id": "cEAwCrrFiifu"
      },
      "execution_count": 10,
      "outputs": []
    },
    {
      "cell_type": "markdown",
      "source": [
        "feature scaling\n",
        "\n",
        "Fit_Transform - fit method is calculating the mean and variance of each of the features present in our data\n",
        "\n",
        "Transform - Transform method is transforming all the features using the respective mean and variance, \n",
        "\n"
      ],
      "metadata": {
        "id": "QKqKLiQguthp"
      }
    },
    {
      "cell_type": "code",
      "source": [
        "from sklearn.preprocessing  import StandardScaler\n",
        "sc = StandardScaler()\n",
        "x_train = sc.fit_transform(x_train)\n",
        "x_test = sc.transform(x_test)\n",
        "print(x_train)"
      ],
      "metadata": {
        "id": "1YSwwFG7i17z"
      },
      "execution_count": null,
      "outputs": []
    },
    {
      "cell_type": "markdown",
      "source": [
        "training"
      ],
      "metadata": {
        "id": "zmwrirBbwXxm"
      }
    },
    {
      "cell_type": "code",
      "source": [
        "from sklearn.linear_model import LogisticRegression\n",
        "model = LogisticRegression()\n",
        "model.fit(x_train,y_train)\n"
      ],
      "metadata": {
        "id": "BYOc6VeVj54x",
        "colab": {
          "base_uri": "https://localhost:8080/"
        },
        "outputId": "0987dc4b-56e3-4c85-a635-ffd34b247b81"
      },
      "execution_count": 12,
      "outputs": [
        {
          "output_type": "execute_result",
          "data": {
            "text/plain": [
              "LogisticRegression()"
            ]
          },
          "metadata": {},
          "execution_count": 12
        }
      ]
    },
    {
      "cell_type": "code",
      "source": [
        "y_pred = model.predict(x_test)\n",
        "print(np.concatenate((y_pred.reshape(len(y_pred),1), y_test.reshape(len(y_test),1)),1))"
      ],
      "metadata": {
        "id": "qDcsTeVukAxN"
      },
      "execution_count": null,
      "outputs": []
    },
    {
      "cell_type": "markdown",
      "source": [
        "checking the accuracy of the model "
      ],
      "metadata": {
        "id": "buYqFpVexwTP"
      }
    },
    {
      "cell_type": "code",
      "source": [
        "from sklearn.metrics import  accuracy_score\n",
        "\n",
        "print(\"Accuracy of the Model: {0}%\".format(accuracy_score(y_test, y_pred)*100))\n"
      ],
      "metadata": {
        "colab": {
          "base_uri": "https://localhost:8080/"
        },
        "id": "3PVX8OM9mGnj",
        "outputId": "7e62f00a-6cc3-43dc-a7fe-4f7fe7452f4e"
      },
      "execution_count": 19,
      "outputs": [
        {
          "output_type": "stream",
          "name": "stdout",
          "text": [
            "Accuracy of the Model: 76.0%\n"
          ]
        }
      ]
    },
    {
      "cell_type": "markdown",
      "source": [
        "FINAL PREDICTED RESULT FOR THE NEW CUSTOMERS"
      ],
      "metadata": {
        "id": "7JuL8UcIx12y"
      }
    },
    {
      "cell_type": "code",
      "source": [
        "age = int(input(\"Enter New Customer Age: \"))\n",
        "sal = int(input(\"Enter New Customer Salary: \"))\n",
        "newCust = [[age,sal]]\n",
        "result = model.predict(sc.transform(newCust))\n",
        "print(result)\n",
        "if result == 1:\n",
        "  print(\"Customer will Buy\")\n",
        "else:\n",
        "  print(\"Customer won't Buy\")"
      ],
      "metadata": {
        "id": "5YBn6ix9pyZu"
      },
      "execution_count": null,
      "outputs": []
    }
  ]
}